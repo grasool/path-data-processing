{
 "cells": [
  {
   "cell_type": "markdown",
   "metadata": {},
   "source": [
    "OPENSLIDE is the primary package required to process our SVS or TIF files. On windows machines, the package is required to be download along with a specified path to the bin folder. Once it is downloaded, please provide the path to the bin folder below"
   ]
  },
  {
   "cell_type": "code",
   "execution_count": null,
   "metadata": {},
   "outputs": [],
   "source": [
    "# CHANGE PATH BELOW\n",
    "OPENSLIDE_PATH = r'C:\\Users\\80027294\\Documents\\openslide-bin-4.0.0.3-windows-x64\\openslide-bin-4.0.0.3-windows-x64\\bin'\n",
    "\n",
    "import os\n",
    "if hasattr(os, 'add_dll_directory'):\n",
    "    # Windows\n",
    "    with os.add_dll_directory(OPENSLIDE_PATH):\n",
    "        import openslide\n",
    "        print(\"Imported openslide - from new path\")\n",
    "else:\n",
    "    import openslide\n",
    "\n"
   ]
  },
  {
   "cell_type": "markdown",
   "metadata": {},
   "source": [
    "Packages and Libraries we need"
   ]
  },
  {
   "cell_type": "code",
   "execution_count": null,
   "metadata": {},
   "outputs": [],
   "source": [
    "import cv2\n",
    "import numpy as np\n",
    "from utils import norm_HnE\n",
    "import pdb\n",
    "import xml.etree.ElementTree as ET\n",
    "import matplotlib.pyplot as plt\n",
    "from openslide.deepzoom import DeepZoomGenerator\n",
    "import tifffile as tiff\n",
    "from utils import create_gt_tiles,retrieve_ann_vertex,retrieve_ann_coord\n",
    "import imageio"
   ]
  },
  {
   "cell_type": "markdown",
   "metadata": {},
   "source": [
    "Now, we just need to provide the paths to the folders that contain our annotations and our image. In our case, our images would be in the image folder and our annotations would be in the annotation folder. "
   ]
  },
  {
   "cell_type": "code",
   "execution_count": null,
   "metadata": {},
   "outputs": [],
   "source": [
    "# Change these to match your directories\n",
    "wsi_path='C:/Users/80027294/Documents/tls-masks/images'\n",
    "xml_path='C:/Users/80027294/Documents/tls-masks/annotations'\n",
    "target_dir='C:/Users/80027294/Documents/tls-masks/data_patches'"
   ]
  },
  {
   "cell_type": "code",
   "execution_count": 1,
   "metadata": {},
   "outputs": [
    {
     "name": "stdout",
     "output_type": "stream",
     "text": [
      "hello.png\n"
     ]
    }
   ],
   "source": [
    "mask_name=input(\"Please Provide the name of the mask file with .png: \")\n",
    "print(mask_name)"
   ]
  },
  {
   "cell_type": "code",
   "execution_count": null,
   "metadata": {},
   "outputs": [],
   "source": [
    "i=0\n",
    "for wsi in os.listdir(wsi_path):\n",
    "    i+=1\n",
    "    print(f\"Preprocessing Slide number {i} i.e {wsi}\")\n",
    "    slide = openslide.open_slide(os.path.join(wsi_path,wsi))\n",
    "    # pdb.set_trace()\n",
    "    # if (wsi[-3:] == 'tif'):\n",
    "    anno_path  = os.path.join(xml_path,wsi.replace(wsi[-3:],''))\n",
    "    anno_path+='xml'\n",
    "    tree = ET.parse(anno_path)\n",
    "    root = tree.getroot()\n",
    "    # Define the dimensions for the mask (it should match the dimensions of the WSI)\n",
    "    mask = np.zeros(slide.level_dimensions[0][::-1], dtype=np.uint8)\n",
    "    # pdb.set_trace()\n",
    "    if (wsi[-3:]) == 'svs':\n",
    "        masked_image,mask = retrieve_ann_vertex(slide,root,mask)\n",
    "    elif (wsi[-3:]=='tif'):\n",
    "         masked_image,mask = retrieve_ann_coord(slide,root,mask)\n",
    "    # Display the masked image\n",
    "    # plt.imshow(masked_image)\n",
    "    plt.imsave(mask_name,masked_image)"
   ]
  }
 ],
 "metadata": {
  "kernelspec": {
   "display_name": "tls-wsi",
   "language": "python",
   "name": "python3"
  },
  "language_info": {
   "codemirror_mode": {
    "name": "ipython",
    "version": 3
   },
   "file_extension": ".py",
   "mimetype": "text/x-python",
   "name": "python",
   "nbconvert_exporter": "python",
   "pygments_lexer": "ipython3",
   "version": "3.9.19"
  }
 },
 "nbformat": 4,
 "nbformat_minor": 2
}
